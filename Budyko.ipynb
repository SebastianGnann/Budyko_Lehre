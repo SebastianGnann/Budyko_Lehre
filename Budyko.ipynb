{
 "cells": [
  {
   "cell_type": "markdown",
   "id": "8b0da06d-221d-41eb-ac81-d48e3a8412c6",
   "metadata": {
    "jp-MarkdownHeadingCollapsed": true,
    "tags": []
   },
   "source": [
    "# **Wilkommen zur interaktiven Vorlesung zum Thema \"Budyko und die klimatische Wasserbilanz\"**\n",
    "\n",
    "**Sebastian Gnann, Daniel Kretschmer, Thorsten Wagener**\n",
    "\n",
    "Die Online-Vorlesung basiert auf einem sogenannten Jupyter Notebook (https://jupyter.org/). \n",
    "Ein Notebook besteht aus einzelnen Zellen, die entweder Text oder Python-Code beinhalten.\n",
    "In dieser Vorlesung sollen Sie sich durch die einzelnen Zellen klicken und interaktiv und mit echten Daten an das Thema herangeführt werden.\n",
    "\n",
    "## Struktur der Vorlesung\n",
    "\n",
    "I. Jupyter Notebooks: eine kurze Einführung\n",
    "\n",
    "II. Budyko and die klimatische Wasserbilanz\n",
    "\n",
    "III. Lösungsvorschläge und zusätzliche Informationen\n"
   ]
  },
  {
   "cell_type": "markdown",
   "id": "5dd801f7-fb94-453d-9c35-daece742e866",
   "metadata": {
    "tags": []
   },
   "source": [
    "# **I. Jupyter Notebooks: eine kurze Einführung**\n",
    "\n",
    "### **Informationen zu Jupyer Notebooks**\n",
    "\n",
    "Bitte lassen Sie das gesamte Notebook von vorne laufen, so dass alle Python-Module und die Daten in der richtigen Reihenfolge geladen werden.\n",
    "Hierzu drücken Sie zuerst auf das \"Restart the kernel\" Symbol. \n",
    "Danach können Sie jeden Abschnitt ausführen indem Sie auf das \"Run the selected cells and advance\" Symbol klicken.\n",
    "Nun können Sie sich Stück für Stück durch interaktive Vorlesung klicken.\n",
    "\n",
    "<img src=\"jupyter_explanation.png\" alt=\"drawing\" width=800/>"
   ]
  },
  {
   "cell_type": "markdown",
   "id": "f29ff4b3-f5d4-4b45-8066-d0dc8fe3c78b",
   "metadata": {
    "tags": []
   },
   "source": [
    "### **Informationen zu Python**\n",
    "\n",
    "Python ist eine vielgenutzte Programmiersprache. Man kann Python-Code nun nutzen um Daten zu analysieren, Berechnungen anzustellen und Daten zu visualisieren.\n",
    "\n",
    "Sie müssen selbst nicht programmieren, aber sich den Code anzuschauen hilft dabei zu verstehen, was genau in der Analyse passiert.\n",
    "Kommentare werden mit einem # gekennzeichnet (sie werden nicht ausgeführt). \n",
    "Funktionen beginnen immer mit \"def\" und können auch eingeklappt werden, um die Lesbarkeit des Notebooks zu erhöhen.\n",
    "Code wird meistens - wie die Programmiersprache selbst - auf Englisch geschrieben, so dass möglichst viele Leute den Code nutzen können.\n",
    "\n",
    "Nachstehend sehen Sie ein kurzes Beispiel wie ein typischer Code-Schnipsel aufgebaut ist.\n"
   ]
  },
  {
   "cell_type": "code",
   "execution_count": 14,
   "id": "6cb85b39-9862-4d6d-9e9f-44373d77ff6c",
   "metadata": {
    "tags": []
   },
   "outputs": [
    {
     "name": "stdout",
     "output_type": "stream",
     "text": [
      "The resulting value is: 4\n"
     ]
    }
   ],
   "source": [
    "# define function that calculates the square of a number\n",
    "def square(x):\n",
    "    \n",
    "    # define new variable y is the square of the number x\n",
    "    y = x * x\n",
    "    \n",
    "    # this returns z to the user\n",
    "    return y\n",
    "\n",
    "# call function to calculate the square of 2\n",
    "squared_value = square(2)\n",
    "\n",
    "# print the resulting value\n",
    "print(\"The resulting value is:\", squared_value)"
   ]
  },
  {
   "cell_type": "markdown",
   "id": "770cb263-0853-488d-8aef-8c9368bca050",
   "metadata": {
    "tags": []
   },
   "source": [
    "### **Notwendige Python Packages**\n",
    "Es gibt verschieden sogenannte Packages für Python, die bestimme Funktionen ausführen. \n",
    "Manche Packages helfen beim Erstellen von Grafiken, andere erledigen bestimmte Rechenaufgaben.\n",
    "Diese müssen am Anfang importiert werden. Wird das nicht gemacht, kann der nachstehende Code nicht ausgeführt werden."
   ]
  },
  {
   "cell_type": "code",
   "execution_count": 1,
   "id": "54cf33e7-a62b-4612-9a47-20dce2b9c9f2",
   "metadata": {
    "tags": []
   },
   "outputs": [],
   "source": [
    "# import all necessary Python packages\n",
    "import matplotlib.pyplot as plt\n",
    "import numpy as np\n",
    "import pandas as pd\n",
    "from scipy import stats\n",
    "from functions import helper_fcts\n",
    "import ipywidgets as widgets"
   ]
  },
  {
   "cell_type": "markdown",
   "id": "604a3516-52bb-4713-92ba-2a6beb66a24c",
   "metadata": {
    "tags": []
   },
   "source": [
    "### **Information zu den Datensätzen**\n",
    "\n",
    "Wir nutzen den sogenannten CAMELS US Datensatz (Newman et al., 2015; Addor et al., 2017).\n",
    "CAMELS US ist ein Datensatz, der Daten für 671 Einzugsgebiete in den USA enthält. \n",
    "Für jedes Einzugsgebiet enthalten die Datensätze Zeitreihen von Niederschlag, Abfluss, potenzieller Verdunstung, etc., sowie Einzugsgebietseigenschaften wie die Größe des Einzugsgebiets oder die topographische Höhe.\n",
    "\n",
    "**Quellen**\n",
    "\n",
    "Newman, A. J., Clark, M. P., Sampson, K., Wood, A., Hay, L. E., Bock, A., ... & Duan, Q. (2015). Development of a large-sample watershed-scale hydrometeorological data set for the contiguous USA: data set characteristics and assessment of regional variability in hydrologic model performance. Hydrology and Earth System Sciences, 19(1), 209-223.\n",
    "\n",
    "Addor, N., Newman, A. J., Mizukami, N., & Clark, M. P. (2017). The CAMELS data set: catchment attributes and meteorology for large-sample studies. Hydrology and Earth System Sciences, 21(10), 5293-5313."
   ]
  },
  {
   "cell_type": "code",
   "execution_count": 9,
   "id": "d0970673-b542-4888-b00f-3b684ee45d94",
   "metadata": {},
   "outputs": [],
   "source": [
    "# load data into workspace\n",
    "df = pd.read_csv(\"results/camels_US_processed.csv\")\n",
    "\n",
    "# todo: calculate all attributes in code and also change names to German\n",
    "\n",
    "# todo: add US map\n",
    "\n",
    "# calculate aridity and climatic water balance \n",
    "df[\"aridity_class\"] = 0 # assign aridity class (0 = energy-limited, 1 = water-limited)\n",
    "df.loc[df[\"aridity\"] > 1, \"aridity_class\"] = 1\n",
    "df[\"climatic_water_balance\"] = df[\"precipitation\"] - df[\"pet\"] # climatic water balance is defined as PET - P"
   ]
  },
  {
   "cell_type": "markdown",
   "id": "2cff4ef9-5319-4e48-a36b-7abe08828f41",
   "metadata": {},
   "source": [
    "# **II. Budyko and die klimatische Wasserbilanz**\n",
    "\n",
    "Dieser Abschnitt beinhaltet den Kern der Vorlesung, inklusive Hintergrund, Theorie, sowie interaktive Datenanalyse und Visualisierung.\n",
    "Im Laufe der Notebooks werden verschiedene **Fragen** gestellt, die Sie beantworten sollen um die **Lernziele** zu erreichen.\n",
    "\n",
    "**Übersicht**\n",
    "\n",
    "1. Einführung\n",
    "2. Die klimatische Wasserbilanz \n",
    "3. Die Budyko-Kurve\n",
    "4. Abweichungen von der Budyko-Kurve\n",
    "5. Die Wasserbilanz für verschiedene Jahre"
   ]
  },
  {
   "cell_type": "markdown",
   "id": "4105143c-6a34-4b99-a8b0-8d08d809ecc6",
   "metadata": {
    "tags": []
   },
   "source": [
    "## **1. Einführung**\n",
    "\n",
    "**Lernziel**: \n",
    "*Sie sollten die wichtigsten Kenngrößen der klimatischen Wasserbilanz kennen und den Zusammenhang zwischen Wasser- und Energiebilanz erläutern können.*\n",
    "\n",
    "### **1.1 Mikhail Ivanovich Budyko (20.01.1920 – 10.12.2001)**\n",
    "\n",
    "In den Jahren 1955-1974 studierte Mikhail Budyko ([Bildquelle mit Biographie](https://public.wmo.int/en/about-us/awards/international-meteorological-organization-imo-prize/mikhail-ivanovich-budyko)) im Rahmen seiner Forschungen die Komponenten der Land- und Meeresenergiebilanz, was in Russland und darüber hinaus weithin anerkannt wurde und den Grundstein für einen neuen Bereich der Meteorologie legte - die physikalische Klimatologie (Theorie des Klimas). \n",
    "\n",
    "<img src=\"https://ane4bf-datap1.s3-eu-west-1.amazonaws.com/wmocms/s3fs-public/styles/featured_media_detail/public/advanced_page/featured_media/Budyko.png?sVsiFNvfuHQf792994VKiDrakKn_AGLD&itok=bpEQF8dL\" alt=\"drawing\" width=\"300\"/>\n",
    "\n",
    "\n",
    "### **1.2 Die langfristige Wasserbilanz eines Einzugsgebiets**\n",
    "Budyko nimmt an, dass die Wasserbilanz großer Einzugsgebiete ($\\gg$1000 km²) nur vom Klima kontrolliert wird. \n",
    "Die langfristige Wasserbilanz für ein Einzugsgebiet ist dann:\n",
    "\n",
    "\\begin{equation}\n",
    "\\tag{1}\n",
    "P = AET + Q \\label{water_balance}\n",
    "\\end{equation}\n",
    "\n",
    "wobei $P$ den Niederschlag beschreibt, $AET$ die tatsächliche Verdunstung und $Q$ den Abfluss (alle in mm/y).\n",
    "\n",
    "Und die Energiebilanz ist:\n",
    "\n",
    "\\begin{equation}\n",
    "\\tag{2}\n",
    "R_n = L + H + G \\label{energy_balance}\n",
    "\\end{equation}\n",
    "\n",
    "wobei $R_n$ die Nettostrahlung beschreibt, $L$ die latente Wärme, $H$ die sensible Wärme und $G$ den Bodenwärmefluss (alle in W/m²).\n",
    "\n",
    "### **1.3 Der Zusammenhang zwischen Wasser- und Energiebilanz**\n",
    "\n",
    "Die latente Wärme kann auch über die tatsächliche Verdunstung ausgedrückt werden:\n",
    "\n",
    "\\begin{equation}\n",
    "\\tag{3}\n",
    "L = \\lambda_w AET \\label{latent_heat}\n",
    "\\end{equation}\n",
    "\n",
    "wobei $\\lambda_w$ die Verdunstungsenthalpie ist, also die Menge an Energie, die es braucht um eine bestimmte Menge an Wasser zu verdampfen (diese ist leicht abhängig von der Temperatur $T$). \n",
    "\n",
    "Die sogenannte potentielle Verdunstung $PET$ kann über die Nettostrahlung genähert werden:\n",
    "\n",
    "\\begin{equation}\n",
    "\\tag{4}\n",
    "PET = Rn/\\lambda_w \\label{potential_evaporation}\n",
    "\\end{equation}\n",
    "\n",
    "Der Bodenwärestrom wird häufig vernachlässigt, so dass sich folgende Gleichung ergibt:\n",
    "\n",
    "\\begin{equation}\n",
    "\\tag{5}\n",
    "R_n = \\lambda_w AET + H \\label{energy_and_water_balance}\n",
    "\\end{equation}\n",
    "\n",
    "Gleichung (5) verbindet nun also die Wasserbilanz mit der Energiebilanz und ist somit eine wichtige Grundlage der Hydroklimatologie."
   ]
  },
  {
   "cell_type": "markdown",
   "id": "f3957766-300a-44aa-a93f-c77fe6bab3ed",
   "metadata": {
    "tags": []
   },
   "source": [
    "## **2. Die klimatische Wasserbilanz** \n",
    "\n",
    "**Lernziel**: \n",
    "*Sie sollten erklären können, was die klimatische Wasserbilanz ist und wieso die Einteilung von Einzugsgebieten in wasser- und energie-limitiert nützlich ist.*\n",
    "\n",
    "### **2.1 Der Trockenheitsindex**\n",
    "Die klimatische Wasserbilanz ist definiert als $P - PET$.\n",
    "Sie ist eng verwandt mit dem sogenannten Trockenheitsindex $\\phi$ (manchmal auch Aridität genannt):\n",
    "\n",
    "\\begin{equation}\n",
    "\\tag{6}\n",
    "\\phi = \\frac{PET}{P} \\label{aridity_index}\n",
    "\\end{equation}\n",
    "\n",
    "### **2.2 Energie- und wasser-limitierte Gebiete**\n",
    "Gebiete, in denen $P$ größer als $PET$ ist, werden als *energie-limitiert* bezeichnet. \n",
    "Gebiete, in denen $P$ kleiner als $PET$ ist, werden als *wasser-limitiert* bezeichnet.\n",
    "\n",
    "In wasser-limitierten ist die klimatische Wasserbilanz negativ (bzw. $\\phi > 1$).\n",
    "In solchen Gebieten kann nicht alle Energie genutzt werden um Wasser zu verdunsten, da nicht genügend Wasser vorhanden ist. \n",
    "Die Energie, die nicht genutzt wird um Wasser zu verdunsten, wird in fühlbare Wärme $H$ umgewandelt.\n",
    "In energie-limitierten Gebieten hingegen kann (fast) alle Energie genutzt werden ($PET \\approx AET$), und folglich sollte $P - PET$ ungefähr dem Abfluss $Q$ entsprechen.\n",
    "\n",
    "### **2.3 Der Zusammenhang zwischen klimatischer Wasserbilanz und Abfluss**\n",
    "Im folgenden sehen Sie einen Plot, der den Abfluss gegen die klimatische Wasserbilanz zeigt. \n",
    "Die Stärke des Zusammenhangs kann man z.B. mit der sogenannten Spearman Rangkorrelation $\\rho_s$ beschreiben.\n",
    "\n",
    "**Frage:**\n",
    "Gibt es Unterschiede zwischen wasser- und energie-limitierten Gebieten? "
   ]
  },
  {
   "cell_type": "code",
   "execution_count": 4,
   "id": "c438804f-1a3d-4848-ab47-f1fbb7cd4e0a",
   "metadata": {
    "tags": []
   },
   "outputs": [
    {
     "data": {
      "image/png": "[encoded data removed]",
      "text/plain": [
       "<Figure size 400x400 with 1 Axes>"
      ]
     },
     "metadata": {},
     "output_type": "display_data"
    }
   ],
   "source": [
    "# define function that plots the climatic water balance against streamflow\n",
    "def plot_climatic_water_balance(*args):\n",
    "        \n",
    "    # create figure\n",
    "    fig = plt.figure(figsize=(4, 4), constrained_layout=True) \n",
    "    axes = plt.axes()\n",
    "    \n",
    "    # plot vertical line at x = 0\n",
    "    axes.axvline(c='lightgrey', linestyle='--') \n",
    "    \n",
    "    # calculate correlation for energy- and water-limited catchments\n",
    "    r_sp_energy_limited, _ = stats.spearmanr(df.loc[df[\"aridity_class\"] == 0, \"climatic_water_balance\"], \n",
    "                                             df.loc[df[\"aridity_class\"] == 0, \"streamflow\"], nan_policy='omit')\n",
    "    r_sp_water_limited, _ = stats.spearmanr(df.loc[df[\"aridity_class\"] == 1, \"climatic_water_balance\"],\n",
    "                                            df.loc[df[\"aridity_class\"] == 1, \"streamflow\"], nan_policy='omit')\n",
    "    \n",
    "    # plot climatic water balance against streamflow separated into energy- and water-limited catchments\n",
    "    # to get annual values we multiply the daily values by 365\n",
    "    im = axes.scatter(df.loc[df[\"aridity_class\"] == 0, \"climatic_water_balance\"]*365, \n",
    "                      df.loc[df[\"aridity_class\"] == 0, \"streamflow\"]*365,\n",
    "                      s=25, c=\"tab:blue\", alpha=0.5, lw=0, \n",
    "                      label=r\"$PET/P < 1$; $\\rho_s$ = \" + str(np.round(r_sp_energy_limited,2)))    \n",
    "    im = axes.scatter(df.loc[df[\"aridity_class\"] == 1, \"climatic_water_balance\"]*365, \n",
    "                      df.loc[df[\"aridity_class\"] == 1, \"streamflow\"]*365,\n",
    "                      s=25, c=\"tab:orange\", alpha=0.5, lw=0,\n",
    "                      label=r\"$PET/P > 1$; $\\rho_s$ = \" + str(np.round(r_sp_water_limited,2)))\n",
    "    \n",
    "    # specify axes, labels, etc.\n",
    "    axes.set_xlabel(\"$PET - P$ [mm/y]\")\n",
    "    axes.set_ylabel(\"$Q$ [mm/y]\")\n",
    "    #axes.set_xlim([-1000, 1000])\n",
    "    #axes.set_ylim([0, 2000])\n",
    "    axes.legend(loc='best')\n",
    "    #axes.set_aspect('equal', adjustable='box')\n",
    "    #axes.grid()\n",
    "\n",
    "# run the function\n",
    "plot_climatic_water_balance()\n",
    "    \n",
    "%matplotlib inline"
   ]
  },
  {
   "cell_type": "markdown",
   "id": "a353ef4b-2346-4ffd-9df1-28b696c44ab6",
   "metadata": {
    "tags": []
   },
   "source": [
    "## **3. Die Budyko-Kurve**\n",
    "\n",
    "**Lernziel:**\n",
    "*Sie sollten die Herleitung der Budyko-Kurve erläutern können und erkären können, weshalb manche Einzugsgebiete außerdem der Limits liegen.*\n",
    "\n",
    "### **3.1 Das Energie- und das Wasser-Limit als Grundlage der Budyko-Kurve**\n",
    "Die Unterteilung in wasser- und energielimitiert bildet die Grundlage von Budykos Kurve. \n",
    "\n",
    "In energie-limitierten Gebieten (z.B. feuchte Gebiete wie Schottland oder Schweden) nähert sich die Verdunstung der potentiellen Verdunstung an.\n",
    "\n",
    "\\begin{equation}\n",
    "%\\tag{}\n",
    "AET \\rightarrow PET \\label{}\n",
    "\\end{equation}\n",
    "\n",
    "In wasser-limitierten Gebieten (z.B. trockene Gebiete wie Südspanien oder die Sahara) nähert sich die Verdunstung dem Niederschlag an.\n",
    "\n",
    "\\begin{equation}\n",
    "%\\tag{}\n",
    "AET \\rightarrow P \\label{}\n",
    "\\end{equation}\n",
    "\n",
    "Wir definieren nun neben dem Trockenheitsindex noch den sogenannten Verdunstungsindex:\n",
    "\n",
    "\\begin{equation}\n",
    "\\tag{7}\n",
    "\\psi = AET / P \\label{evaporative_faction}\n",
    "\\end{equation}\n",
    "\n",
    "Für zunehmend wasser-limitierte (\"aride\") Gebiete, nähert sich der Verdunstungsindex 1 an, da der ganze Niederschlag verdunstet.\n",
    "Für zunehmend energie-limitierte (\"humide\") Gebiete, nähert sich der Verdunstungsindex dem Trockenheitsindex an, da alles Energie für die Verdunstung genutzt wird.\n",
    "\n",
    "### **3.2 Budykos ursprüngliche Gleichung**\n",
    "...\n",
    "\n",
    "\\begin{equation}\n",
    "\\tag{8}\n",
    "xxx = yyy \\label{budyko_equation}\n",
    "\\end{equation}\n",
    "\n",
    "<img src=\"Budyko_curve.png\" alt=\"drawing\" width=\"400\"/>\n",
    "\n",
    "### **3.3 Echte Einzugsgebietsdaten im \"Budyko-Raum\"**\n",
    "Nun schauen wir uns das ganze mit echten Daten an. \n",
    "\n",
    "Der Plot zeigt, dass die meisten Datenpunkte den von Budyko postulierten Grenzen folgen. Die Kurve passt zwar nicht perfekt, gibt aber dennoch den generellen Trend gut wieder. \n",
    "\n",
    "**Frage:**\n",
    "Manche Punkte liegen außerhalb der theoretischen Grenzen. \n",
    "Welche Gründe könnte es dafür geben?\n",
    "\n",
    "Im folgenden werden wir diese Punkte nicht mehr betrachten."
   ]
  },
  {
   "cell_type": "code",
   "execution_count": 5,
   "id": "90718d02-4e4a-4d3a-8031-6f1b8bca1136",
   "metadata": {},
   "outputs": [
    {
     "data": {
      "image/png": "[encoded data removed]",
      "text/plain": [
       "<Figure size 600x300 with 1 Axes>"
      ]
     },
     "metadata": {},
     "output_type": "display_data"
    }
   ],
   "source": [
    "def plot_Budyko(plot_curve=False,*args):\n",
    "    \n",
    "    # create figure\n",
    "    fig = plt.figure(figsize=(6, 3), constrained_layout=True)\n",
    "    axes = plt.axes()\n",
    "    \n",
    "    # plot catchments in Budyko space\n",
    "    im = axes.scatter(df[\"aridity\"], 1-df[\"runoff_ratio\"], s=25, alpha=0.5, lw=0) \n",
    "    \n",
    "    # specify axes, labels, etc.\n",
    "    axes.set_xlabel(\"$PET/P$ [-]\")\n",
    "    axes.set_ylabel(\"$1 - Q/P$ [-]\")\n",
    "    axes.set_xlim([0, 5])\n",
    "    axes.set_ylim([-0.2, 1.2])\n",
    "    helper_fcts.plot_Budyko_limits(df[\"aridity\"], df[\"runoff_ratio\"], axes)\n",
    "    #axes.set_xscale('log')\n",
    "    \n",
    "    # plot Budyko curve\n",
    "    if plot_curve == True:\n",
    "        helper_fcts.plot_Budyko_curve(np.linspace(0.01,10,1000), axes)\n",
    "\n",
    "# this function plots catchments in Budyko space as well as the Budyko curve\n",
    "plot_Budyko(plot_curve=True) \n",
    "\n",
    "#todo: points outside limits as crosses and remove later + question why?\n",
    "\n",
    "%matplotlib inline"
   ]
  },
  {
   "cell_type": "markdown",
   "id": "274142e5-ba1b-49f2-86cb-88b46a1b2514",
   "metadata": {
    "tags": []
   },
   "source": [
    "## **4. Abweichungen von der Budyko-Kurve**\n",
    "\n",
    "**Lernziel:**\n",
    "*Sie sollten verschiedene Gründe für die Abweichung der Budyko-Kurve nennen können und diskutieren können, welche Gründe plausibel sind.*\n",
    "\n",
    "### **4.1 Quantifizierung der Abweichung**\n",
    "todo: define Budyko anomaly\n",
    "\n",
    "\n",
    "Abgesehen von Unsicherheiten in den Daten, welche Gründe könnte es für eine Abweichung von der Linie geben?\n"
   ]
  },
  {
   "cell_type": "code",
   "execution_count": 3,
   "id": "48498041-3b7e-41c2-8aac-9cc36b578948",
   "metadata": {},
   "outputs": [
    {
     "data": {
      "image/png": "[encoded data removed]",
      "text/plain": [
       "<Figure size 600x300 with 2 Axes>"
      ]
     },
     "metadata": {},
     "output_type": "display_data"
    }
   ],
   "source": [
    "# define function that creates a Budyko plot coloured according to Budyko anomalies\n",
    "def plot_Budyko_anomaly(*args):\n",
    "    \n",
    "    #todo: add dict for z name and unit\n",
    "    \n",
    "    # create figure\n",
    "    fig = plt.figure(figsize=(6, 3), constrained_layout=True)\n",
    "    axes = plt.axes()\n",
    "    \n",
    "    # plot catchments in Budyko space coloured according to Budyko anomalies\n",
    "    im = axes.scatter(df[\"aridity\"], 1-df[\"runoff_ratio\"], s=25, c=df[\"Budyko_anomaly\"], alpha=0.5, lw=0, cmap='RdYlGn') \n",
    "    \n",
    "    # specify axes, labels, etc.\n",
    "    axes.set_xlabel(\"$PET/P$ [-]\")\n",
    "    axes.set_ylabel(\"$1 - Q/P$ [-]\")\n",
    "    axes.set_xlim([0, 5])\n",
    "    axes.set_ylim([-0.2, 1.2])\n",
    "    helper_fcts.plot_Budyko_limits(df[\"aridity\"], df[\"runoff_ratio\"], axes)\n",
    "    helper_fcts.plot_Budyko_curve(np.linspace(0.01,10,1000), axes)   \n",
    "    #axes.set_xscale('log')\n",
    "    cbar = fig.colorbar(im, ax=axes)\n",
    "    cbar.set_label(\"Budyko Abweichung [-]\")   \n",
    "    cbar.mappable.set_clim(vmin=-0.3,vmax=0.3)\n",
    "\n",
    "# calculate evaporative fraction using the Budyko equation and use it to calculate Budyko anomalies \n",
    "df[\"evaporative_fraction\"] = helper_fcts.Budyko_curve(df[\"aridity\"])\n",
    "df[\"Budyko_anomaly\"] = (1 - df[\"runoff_ratio\"]) - df[\"evaporative_fraction\"]\n",
    "\n",
    "# run the function\n",
    "plot_Budyko_anomaly()\n",
    "\n",
    "%matplotlib inline"
   ]
  },
  {
   "cell_type": "markdown",
   "id": "27a27668-5b45-47d5-842b-a2b4883633cc",
   "metadata": {},
   "source": [
    "### **4.2 Gründe für Abweichungen von der Budyko-Kurve**\n",
    "\n",
    "**Frage:**\n",
    "Überlegen Sie sich mindestens drei Gründe (Hypothesen) für die Abweichungen von der Budykokurve. \n",
    "\n",
    "z.B. mithilfe einer AI (https://www.perplexity.ai/, https://openai.com/blog/chatgpt)\n",
    "\n",
    "Im nächsten Teil werden sie diese Hypotheses zur Erklärung der Abweichungen mit Daten überprüfen.\n",
    "\n",
    "Um herauszufinden, welche der oben genannten Gründe die Abweichungen verursachen könnten, können wir verschiedene Einzugsgebietseigenschaften nutzen.\n",
    "Das sind Werte, die bestimmte Eigenschaften eines Einzugsgebiets zusammenfassen; z.B. die durchschnittliche Höhe, der Wald-Anteil, oder der Anteil an Regen, der als Schnee fällt.\n",
    "\n",
    "Hier sollen Sie zwei Möglichkeiten nutzen, um die Gründe für Abweichungen von der Budyko-Kurve zu untersuchen. \n",
    "Zum einen kann man die Punkte im Budyko-Graph der Einzugsgebietseigenschaft entsprechen einfärben - daran lassen sich oft Muster erkennen.\n",
    "Zum anderen kann man die Abweichungen von der Budyko-Kurve, wie wir sie vorhin berechnet haben, mit den Einzugseigenschaften vergleichen. \n",
    "Das geht sowohl graphisch als auch über die Korrelation. Diese beschreibt eine Beziehung zwischen zwei Variablen mit einem Wert zwischen -1 und 1.\n",
    "Werte nahe 1 deuten einen starken Zusammenhang an. Werte nahe -1 deuten einen starken umgekehrter Zusammenhang an. Werte nahe 0 deuten an, dass kein Zusammenhang besteht.\n",
    "\n",
    "Aber: wie man in jeder Statistikvorlesung lernt: Korrelation ist nicht gleich Kausalität. \n",
    "Deswegen sollten Sie sich auch Gedanken machen, welche Nachteile diese Art der Analyse hat und was für Lösungen es geben könnte.\n",
    "\n",
    "Weitere Informationen finden Sie auch hier: https://en.wikipedia.org/wiki/Correlation "
   ]
  },
  {
   "cell_type": "code",
   "execution_count": 8,
   "id": "c2b7874c-dc2c-49e4-83b2-2a23393c2dcb",
   "metadata": {},
   "outputs": [
    {
     "data": {
      "application/vnd.jupyter.widget-view+json": {
       "model_id": "85851adf02d54a1ebc7c24f54f21e0b2",
       "version_major": 2,
       "version_minor": 0
      },
      "text/plain": [
       "interactive(children=(Dropdown(description='x', options=('gauge_id', 'p_seasonality', 'frac_snow', 'high_prec_…"
      ]
     },
     "metadata": {},
     "output_type": "display_data"
    }
   ],
   "source": [
    "# define function that creates Budyko plot coloured according to catchment attributes\n",
    "def plot_Budyko_attributes(x):\n",
    "    \n",
    "    dict_names = {'gauge_id': 'Einzugsgebiets-ID',\n",
    "              'p_seasonality': 'Saisonalität des Niederschlags [-]', \n",
    "              'frac_snow': 'Schnee-Anteil [-]', \n",
    "              'high_prec_freq': 'Anteil starker Niederschläge [%]',\n",
    "              'frac_forest': 'Wald-Anteil [-]', \n",
    "              'slope_mean': 'Topographische Steigung [m km$^{-1}$]', \n",
    "              'elev_mean': 'Topographische Höhe [m]', \n",
    "              'soil_depth_pelletier': 'Bodentiefe [m]', \n",
    "              'clay_frac': 'Ton-Anteil [-]', \n",
    "              'carbonate_rocks_frac': 'Anteil Carbonatgestein [-]',       \n",
    "              'geol_permeability': 'Geologische Durchlässigkeit [m²]'}\n",
    "    #df.rename(columns=dict_names, inplace=True)\n",
    "    \n",
    "    dict_explantions = {'gauge_id': 'Einzugsgebiets-ID: eindeutige Nummer, die jedem Einzugsgebiet zugeordnet ist.',\n",
    "              'p_seasonality': 'Saisonalität des Niederschlags [-]: negative (positive) Werte zeigen an, dass mehr Niederschlag im Winter (sommer) fällt.', \n",
    "              'frac_snow': 'Schnee-Anteil [-]: der Anteil des Niederschlags, der als Schnee fällt.', \n",
    "              'high_prec_freq': 'Häufigkeit niederschlagsreicher Tager [%]: Häufigkeit von niederschlagsreichen Tagen (≥ 5 mal mittlerer Tagesniederschlag).',\n",
    "              'frac_forest': 'Wald-Anteil [-]: der Anteil des Einzugsgebiets, der mit Wald bedeckt ist.', \n",
    "              'slope_mean': 'Topographische Steigung [m/km]: die durchschnittliche topographische Steigung im Einzugebiet.', \n",
    "              'elev_mean': 'Topographische Höhe [m]: die durchschnittliche Höhe des Einzugsgebiets (über dem Meeresspiegel).', \n",
    "              'soil_depth_pelletier': 'Bodentiefe [m]: die durchschnittliche Tiefe des Bodens im Einzugsgebiet.', \n",
    "              'clay_frac': 'Ton-Anteil [-]: der durchschnittliche Anteil an Ton (sehr feinkörniges Sediment) im Boden des Einzugsbiets.', \n",
    "              'carbonate_rocks_frac': 'Anteil Carbonatgestein [-]: der Anteil des Einzugsgebiets, an dem Karbonatgestein vorkommt.',       \n",
    "              'geol_permeability': 'Geologische Durchlässigkeit [m²]: durchschnittliche Durchlässigkeit des Geste'}\n",
    "    \n",
    "    print(dict_explantions[x])\n",
    "    \n",
    "    # create figure\n",
    "    fig, axes = plt.subplots(figsize=(10, 3), constrained_layout=True, nrows=1, ncols=2, gridspec_kw={'width_ratios': [2, 1]})\n",
    "    #axes = fig.subfigures(1, 2, wspace=0.07)\n",
    "    \n",
    "    # plot catchments in Budyko space coloured according to catchment attribute\n",
    "    im = axes[0].scatter(df[\"aridity\"], 1-df[\"runoff_ratio\"], s=25, c=df[x], alpha=0.5, lw=0) #, s=df[\"area\"]/100\n",
    "    \n",
    "    # specify axes, labels, etc.\n",
    "    axes[0].set_xlabel(\"$PET/P$ [-]\")\n",
    "    axes[0].set_ylabel(\"$1 - Q/P$ [-]\")\n",
    "    axes[0].set_xlim([0, 5])\n",
    "    axes[0].set_ylim([-0.2, 1.2])\n",
    "    helper_fcts.plot_Budyko_limits(df[\"aridity\"], df[\"runoff_ratio\"], axes[0])\n",
    "    helper_fcts.plot_Budyko_curve(np.linspace(0.01,10,1000), axes[0])\n",
    "    #axes.set_xscale('log')\n",
    "    cbar = fig.colorbar(im, ax=axes[0])\n",
    "    cbar.set_label(dict_names[x])    \n",
    "    \n",
    "    # calculate correlation\n",
    "    r_sp, _ = stats.spearmanr(df[x], df[\"Budyko_anomaly\"], nan_policy='omit')\n",
    "    \n",
    "    # plot vertical line at x = 0\n",
    "    axes[1].axhline(c='lightgrey', linestyle='--')\n",
    "    \n",
    "    # plot catchment attribute against Budyko anomaly\n",
    "    im = axes[1].scatter(df[x], df[\"Budyko_anomaly\"], s=25, c=df[\"Budyko_anomaly\"], alpha=0.5, lw=0, cmap='RdYlGn', \n",
    "                      label=r\"$\\rho_s$ = \" + str(np.round(r_sp,2)))   \n",
    "    \n",
    "    # specify axes, labels, etc.\n",
    "    axes[1].set_xlabel(dict_names[x])    \n",
    "    axes[1].set_ylabel(\"Budyko Abweichung [-]\")\n",
    "    #axes[1].set_ylim([-1, 1])\n",
    "    axes[1].legend(loc='best')\n",
    "    cbar = fig.colorbar(im, ax=axes[1])\n",
    "    cbar.set_label(\"Budyko Abweichung [-]\")   \n",
    "    cbar.mappable.set_clim(vmin=-0.3,vmax=0.3)\n",
    "\n",
    "# run the function\n",
    "widgets.interact(plot_Budyko_attributes, x=[\n",
    "                'gauge_id',\n",
    "                'p_seasonality', \n",
    "                'frac_snow', \n",
    "                'high_prec_freq',\n",
    "                'frac_forest', \n",
    "                'slope_mean', \n",
    "                'elev_mean', \n",
    "                'soil_depth_pelletier', \n",
    "                'clay_frac', \n",
    "                'carbonate_rocks_frac',       \n",
    "                'geol_permeability'], \n",
    "                layout={'width': 'max-content'}, disabled=False)\n",
    "# add area!\n",
    "\n",
    "%matplotlib inline"
   ]
  },
  {
   "cell_type": "markdown",
   "id": "5cd5fabc-b01f-4590-bd25-5a63a5c56667",
   "metadata": {
    "tags": []
   },
   "source": [
    "### **4.3 Die Rolle der Einzugsgebietsgröße**\n",
    "\n",
    "Budyko hat seine Theorie ursprünglich für große Einzugsbiete ($\\gg$1000 km²) entwickelt.\n",
    "\n",
    "**Frage:**\n",
    "Wieso spielt die Einzugsgebietsgröße eine Rolle?\n",
    "\n",
    "Je größer ein Einzugsgebiet, desto wahrscheinlich ist es, dass sämtlichtes Wasser das Einzugsgebiet als Abfluss oder Verdunstung verlässt, und nicht beispielweise als Grundwasserabfluss.\n",
    "Außerdem gleicht sich ein Teil der Schwankungen bei der Bodennutzung, der Bodenart und der Geologie in großen Gebieten aus.\n"
   ]
  },
  {
   "cell_type": "code",
   "execution_count": 7,
   "id": "2b4574b4-12be-429b-87a7-be8cff605b3e",
   "metadata": {},
   "outputs": [
    {
     "data": {
      "application/vnd.jupyter.widget-view+json": {
       "model_id": "18d73def90da4a378754a0ad05594517",
       "version_major": 2,
       "version_minor": 0
      },
      "text/plain": [
       "interactive(children=(Dropdown(description='x', options=('x < 200', '200 < x < 500', '500 < x < 1000', 'x > 10…"
      ]
     },
     "metadata": {},
     "output_type": "display_data"
    }
   ],
   "source": [
    "# define function that highlights catchments in Budyko space depending on their size\n",
    "def plot_Budyko_assumptions_size(x):\n",
    "        \n",
    "    # create figure\n",
    "    fig, axes = plt.subplots(figsize=(10, 3), constrained_layout=True, nrows=1, ncols=2, gridspec_kw={'width_ratios': [2, 1]})\n",
    "    #axes = fig.subfigures(1, 2, wspace=0.07)\n",
    "    \n",
    "    # select catchments based on their size\n",
    "    if x == 'x < 200':\n",
    "        df_tmp = df.loc[(df[\"area_gages2\"]<200)]\n",
    "        \n",
    "    elif x == '200 < x < 500':\n",
    "        df_tmp = df.loc[np.logical_and(df[\"area_gages2\"]>200,df[\"area_gages2\"]<500)]\n",
    "        \n",
    "    elif x == '500 < x < 1000':\n",
    "        df_tmp = df.loc[np.logical_and(df[\"area_gages2\"]>500,df[\"area_gages2\"]<1000)]\n",
    "        \n",
    "    elif x == 'x > 1000':\n",
    "        df_tmp = df.loc[(df[\"area_gages2\"]>1000)]\n",
    "        \n",
    "    else:\n",
    "        print(\"Category not available.\")\n",
    "        \n",
    "    # plot catchments in Budyko space and highlight them according to size\n",
    "    im = axes[0].scatter(df[\"aridity\"], 1-df[\"runoff_ratio\"], s=25, c=\"lightgrey\", alpha=1, lw=0) \n",
    "    im = axes[0].scatter(df_tmp[\"aridity\"], 1-df_tmp[\"runoff_ratio\"], s=25, c=\"tab:red\", alpha=0.5, lw=0) \n",
    "    \n",
    "    # specify axes, labels, etc.\n",
    "    axes[0].set_xlabel(\"$PET/P$ [-]\")\n",
    "    axes[0].set_ylabel(\"$1 - Q/P$ [-]\")\n",
    "    axes[0].set_xlim([0, 5])\n",
    "    axes[0].set_ylim([-0.2, 1.2])\n",
    "    helper_fcts.plot_Budyko_limits(df_tmp[\"aridity\"], df_tmp[\"runoff_ratio\"], axes[0])\n",
    "    #axes.set_xscale('log')\n",
    "    helper_fcts.plot_Budyko_curve(np.linspace(0.01,10,1000), axes[0])\n",
    "    \n",
    "    # plot histogram of all catchment areas\n",
    "    im = axes[1].hist(df[\"area_gages2\"], np.linspace(0,2000,40), facecolor=\"grey\")\n",
    "    \n",
    "    # specify axes, labels, etc.\n",
    "    axes[1].set_xlabel(\"Area [km$^2$]\")\n",
    "    axes[1].set_ylabel(\"Count\")\n",
    "    axes[1].set_xlim([0, 2000])\n",
    "\n",
    "# run the function\n",
    "widgets.interact(plot_Budyko_assumptions_size, x=['x < 200','200 < x < 500','500 < x < 1000','x > 1000'])\n",
    "\n",
    "%matplotlib inline"
   ]
  },
  {
   "cell_type": "markdown",
   "id": "2d4614a7-ed49-4465-a61c-7ded1727fe4d",
   "metadata": {},
   "source": [
    "## **5. Die Wasserbilanz für verschiedene Jahre**\n",
    "\n",
    "**Lernziel:**\n",
    "*Sie sollten erklären können, wieso sich die Wasserbilanz von Jahr zu Jahr ändert und wie sich energie- und wasser-limitierte Gebiete verhalten.*\n",
    "\n",
    "### **5.1 Kürzere Zeitperioden: Variabilität von Jahr zu Jahr oder von Dekade zu Dekade**\n",
    "\n",
    "Schaut man sich langjährige Mittelwerte an, z.B. über 30 Jahre (\"klimatologisches Mittel\"), so wird es wahrscheinlicher, dass die Annahme zutrifft, dass keine Änderung des Speichers im Einzugsgebiet stattfindet. In einzelnen Jahren kann diese Änderung hingehen sehr groß sein und damit zu Abweichungen von der Budykokurve führen.\n",
    "\n",
    "**Frage:**\n",
    "Schaut man sich kürzere Zeitperioden an, z.B. einzelne Jahre, so sind bestimmte Annahmen der Budyko-Kurve nicht mehr gegeben.\n",
    "Welche sind das? Und wie kann man das mit Daten nachvollziehen?"
   ]
  },
  {
   "cell_type": "code",
   "execution_count": 27,
   "id": "a76ae1a5-4f21-47b7-b58a-5085df8b56b1",
   "metadata": {},
   "outputs": [
    {
     "data": {
      "application/vnd.jupyter.widget-view+json": {
       "model_id": "b3b1a81f13974880a818c303a4f2c33b",
       "version_major": 2,
       "version_minor": 0
      },
      "text/plain": [
       "interactive(children=(Dropdown(description='x', options=(1013500, 8196000, 11124500, 13023000, 14309500), valu…"
      ]
     },
     "metadata": {},
     "output_type": "display_data"
    }
   ],
   "source": [
    "# define function that highlights a single catchment in Budyko space and how it changes with time\n",
    "def plot_Budyko_single_catchment(x):\n",
    "        \n",
    "    # create figure\n",
    "    fig, axes = plt.subplots(figsize=(10, 3), constrained_layout=True, nrows=1, ncols=2, gridspec_kw={'width_ratios': [2, 1]})\n",
    "    #axes = fig.subfigures(1, 2, wspace=0.07)\n",
    "    \n",
    "    # todo: add info on selected catchments\n",
    "    \n",
    "    # select years\n",
    "    years = ['1981', '1982', '1983', '1984', '1985', '1986', '1987', '1988', '1989', '1990']\n",
    "    aridity_tmp = np.zeros(len(years))\n",
    "    runoff_ratio_tmp = np.zeros(len(years))\n",
    "    precipitation_tmp = np.zeros(len(years))\n",
    "    i = 0\n",
    "    for year in years:\n",
    "        aridity_tmp[i] = df.loc[df[\"gauge_id\"]==x, \"aridity\"+'_'+year]\n",
    "        runoff_ratio_tmp[i] = df.loc[df[\"gauge_id\"]==x, \"runoff_ratio\"+'_'+year]\n",
    "        precipitation_tmp[i] = df.loc[df[\"gauge_id\"]==x, \"precipitation\"+'_'+year]\n",
    "        i = i+1\n",
    "\n",
    "    # plot catchments in Budyko space and highlight individual catchments\n",
    "    im = axes[0].scatter(df[\"aridity\"], 1-df[\"runoff_ratio\"], s=25, c=\"lightgrey\", alpha=1, lw=0, label='Alle Einzugsgebiete')\n",
    "    im = axes[0].scatter(aridity_tmp, 1-runoff_ratio_tmp, marker='d', s=35, c='tab:orange', alpha=1.0, lw=0, label='Jährliche Werte Einzugsgebiet') \n",
    "    im = axes[0].scatter(df.loc[df[\"gauge_id\"]==x, \"aridity\"], 1-df.loc[df[\"gauge_id\"]==x, \"runoff_ratio\"], marker='d', s=35, c='black', alpha=1.0, lw=0, label='Mittelwert Einzugsgebiet') \n",
    "    #im = axes[0].scatter(aridity_tmp, 1-runoff_ratio_tmp, marker='d', s=35, c=np.array(years).astype(float), alpha=1.0, lw=0) \n",
    "    #im = axes[0].plot(aridity_tmp, 1-runoff_ratio_tmp, c='grey', alpha=0.75) \n",
    "    \n",
    "    # specify axes, labels, etc.\n",
    "    axes[0].set_xlabel(\"$PET/P$ [-]\")\n",
    "    axes[0].set_ylabel(\"$1 - Q/P$ [-]\")\n",
    "    axes[0].set_xlim([0, 5])\n",
    "    axes[0].set_ylim([-0.2, 1.2])\n",
    "    helper_fcts.plot_Budyko_limits(df[\"aridity\"], df[\"runoff_ratio\"], axes[0])\n",
    "    #axes.set_xscale('log')\n",
    "    helper_fcts.plot_Budyko_curve(np.linspace(0.01,10,1000), axes[0]) \n",
    "    axes[0].legend(loc='best')\n",
    "    \n",
    "    # plot time series for individual catchments\n",
    "    im = axes[1].plot(np.array(years).astype(float), aridity_tmp, c='tab:green', alpha=0.75, label='PET/P')   \n",
    "    im = axes[1].plot(np.array(years).astype(float), 1-runoff_ratio_tmp, c='tab:blue', alpha=0.75, label='1-Q/P')   \n",
    "   \n",
    "    # specify axes, labels, etc.\n",
    "    axes[1].set_xlabel(\"Year\")    \n",
    "    axes[1].set_ylabel(\"[-]\")\n",
    "    axes[1].legend(loc='best')\n",
    "    \n",
    "# run the function\n",
    "widgets.interact(plot_Budyko_single_catchment, x=[1013500, 8196000, 11124500, 13023000, 14309500])\n",
    "\n",
    "# add names of streams\n",
    "\n",
    "# US map\n",
    "\n",
    "# todo: use spider plot?\n",
    "\n",
    "%matplotlib inline    "
   ]
  },
  {
   "cell_type": "markdown",
   "id": "21cb26d5-65ed-4483-9eb6-eab5756a6746",
   "metadata": {},
   "source": [
    "# **III. Lösungsvorschläge und zusätzliche Informationen**\n"
   ]
  },
  {
   "cell_type": "markdown",
   "id": "c5d1c0b3-4124-44f4-85a3-00d2441e9857",
   "metadata": {},
   "source": [
    "### Klimatische Wasserbilanz und Abfluss\n",
    "Der Zusammenhang zwischen der klimatischen Wasserbilanz und dem Abfluss ist sehr stark, inbesondere in energie-limitierten Gebieten.\n",
    "Hier sollte $P - PET$ ungefähr $Q$ entsprechen, da genügend Wasser verfügbar ist und somit (fast) alle Energie für Verdunstung (d.h. $AET$) genutzt werden kann.\n",
    "Der Zusammenhang ist allerdings nie perfekt. Zum einen sind Umweltdaten immer mit Unsicherheit behaftet. \n",
    "Zum anderen gibt es noch weitere Faktoren über die klimatische Wasserbilanz hinaus, die die Abflussbildung beeinflussen. Diese werden wir später erarbeiten."
   ]
  },
  {
   "cell_type": "markdown",
   "id": "9ccc8387-5c45-4530-8f2e-39f17fa8c41d",
   "metadata": {},
   "source": [
    "### Abweichungen von der Budyko-Kurve\n",
    "ChatGPT prompt: Überlegen Sie sich mindestens drei Gründe (Hypothesen) für die Abweichungen von der Budykokurve, in Tabellenform als markdown code\n",
    "\n",
    "Antwort: Natürlich! Hier sind fünf Hypothesen für mögliche Abweichungen von der Budyko-Kurve in tabellarischer Form als Markdown-Code und bitte halten Sie es kurz:\n",
    "\n",
    "| Nr. | Hypothese für Abweichungen von der Budyko-Kurve                |\n",
    "|-----|------------------------------------------------------------|\n",
    "|  1  | Einfluss lokal begrenzter geologischer Gegebenheiten        |\n",
    "|  2  | Änderungen in der Landnutzung und Vegetationsbedeckung      |\n",
    "|  3  | Regionale klimatische Unterschiede                          |\n",
    "|  4  | Menschliche Eingriffe und Wassermanagement                  |\n",
    "|  5  | Hydrologische Besonderheiten in spezifischen Gebieten       |"
   ]
  },
  {
   "cell_type": "code",
   "execution_count": 5,
   "id": "85ce4d54-33be-4b06-88bd-7c8ab08198e2",
   "metadata": {},
   "outputs": [
    {
     "data": {
      "application/vnd.jupyter.widget-view+json": {
       "model_id": "8ccd2c7ce9c14971af45680e9ada4366",
       "version_major": 2,
       "version_minor": 0
      },
      "text/plain": [
       "interactive(children=(Dropdown(description='x', options=('1981', '1982', '1983', '1984', '1985', '1981-1990', …"
      ]
     },
     "metadata": {},
     "output_type": "display_data"
    }
   ],
   "source": [
    "# define function that creates Budyko plots for different time periods\n",
    "def plot_Budyko_assumptions_time(x):\n",
    "    \n",
    "    # calculate evaporative fraction and Budyko anomaly for subperiod\n",
    "    df[\"evaporative_fraction\"+'_'+x] = helper_fcts.Budyko_curve(df[\"aridity\"])\n",
    "    df[\"Budyko_anomaly\"+'_'+x] = (1 - df[\"runoff_ratio\"+'_'+x]) - df[\"evaporative_fraction\"+'_'+x]\n",
    "    \n",
    "    # create figure\n",
    "    fig, axes = plt.subplots(figsize=(10, 3), constrained_layout=True, nrows=1, ncols=2, gridspec_kw={'width_ratios': [2, 1]})\n",
    "    #axes = fig.subfigures(1, 2, wspace=0.07)\n",
    "      \n",
    "    # plot catchments for the whole period and for a selected time period in Budyko space\n",
    "    im = axes[0].scatter(df[\"aridity\"], 1-df[\"runoff_ratio\"], s=25, c=\"lightgrey\", alpha=1, lw=0) \n",
    "    im = axes[0].scatter(df[\"aridity\"+'_'+x], 1-df[\"runoff_ratio\"+'_'+x], s=25, c=\"tab:red\", alpha=0.5, lw=0) \n",
    "    \n",
    "    # specify axes, labels, etc.\n",
    "    axes[0].set_xlabel(\"$PET/P$ [-]\")\n",
    "    axes[0].set_ylabel(\"$1 - Q/P$ [-]\")\n",
    "    axes[0].set_xlim([0, 5])\n",
    "    axes[0].set_ylim([-0.2, 1.2])\n",
    "    helper_fcts.plot_Budyko_limits(df[\"aridity\"], df[\"runoff_ratio\"], axes[0])\n",
    "    #axes.set_xscale('log')\n",
    "    helper_fcts.plot_Budyko_curve(np.linspace(0.01,10,1000), axes[0])\n",
    "    \n",
    "    # plot histogram that shows Budyko anomalies for whole period and for selected time period\n",
    "    df[\"Budyko_anomaly\"+'_'+x] = (1 - df[\"runoff_ratio\"+'_'+x]) - df[\"evaporative_fraction\"+'_'+x]\n",
    "    im = axes[1].hist(df[\"Budyko_anomaly\"], np.linspace(-1,1,20), facecolor=\"grey\", alpha=0.5, label='Alle Jahre')\n",
    "    im = axes[1].hist(df[\"Budyko_anomaly\"+'_'+x], np.linspace(-1,1,20), facecolor=\"tab:red\", alpha=0.5, label=x)\n",
    "    \n",
    "    # specify axes, labels, etc.\n",
    "    axes[1].set_xlabel(\"Budyko Abweichung [-]\" )    \n",
    "    axes[1].set_ylabel(\"Anzahl Einzugsgebiete\")\n",
    "    axes[1].set_xlim([-1, 1])\n",
    "    axes[1].legend(loc='best')\n",
    "    \n",
    "# run the function\n",
    "widgets.interact(plot_Budyko_assumptions_time, x=['1981','1982','1983','1984','1985','1981-1990','1991-2000','2001-2010'])\n",
    "\n",
    "# move to appendix\n",
    "\n",
    "%matplotlib inline"
   ]
  },
  {
   "cell_type": "markdown",
   "id": "2a091cdf-9e7e-4b7e-9442-721f21320363",
   "metadata": {
    "tags": []
   },
   "source": [
    "# **Zusatzbeispiel: die Rolle der Geologie am Beispiel England**\n",
    "\n",
    "Nun schauen wir uns noch an wie Landschaftseigenschaften, wie z.B. die Geologie, die langfristige Wasserbilanz beeinflussen können.\n",
    "\n",
    "In England zeigt sich ein besonders starker Kontrast. Viele Kreide-Gebiete haben sehr ergiebige Grundwasserleiter, wohingegen anderen Gebiete in England häufig wenig aktives Grundwasser aufweisen. \n",
    "\n",
    "Was könnte die Folge davon sein?\n"
   ]
  },
  {
   "cell_type": "code",
   "execution_count": 11,
   "id": "73b5f169-32d0-4f09-a0aa-d327f8107369",
   "metadata": {},
   "outputs": [],
   "source": [
    "# load data into workspace\n",
    "df_GB = pd.read_csv(\"results/camels_GB_processed.csv\")\n",
    "\n",
    "# calculate evaporative fraction using the Budyko equation and use it to calculate the Budyko anomaly\n",
    "df_GB[\"evaporative_fraction\"] = helper_fcts.Budyko_curve(df_GB[\"aridity\"])\n",
    "df_GB[\"Budyko_anomaly\"] = (1 - df_GB[\"runoff_ratio\"]) - df_GB[\"evaporative_fraction\"]\n",
    "\n",
    "# choose only benchmark catchments (\"near-natural\")\n",
    "df_GB = df_GB.loc[df_GB[\"benchmark_catch\"] == 'Y']"
   ]
  },
  {
   "cell_type": "code",
   "execution_count": 12,
   "id": "8cb9154c-a1b5-4adf-bdd7-34f69890aac1",
   "metadata": {},
   "outputs": [
    {
     "data": {
      "application/vnd.jupyter.widget-view+json": {
       "model_id": "36bf1604c2a742ab9379c31691c41ded",
       "version_major": 2,
       "version_minor": 0
      },
      "text/plain": [
       "interactive(children=(Dropdown(description='x', options=('soil_depth_pelletier', 'clay_perc', 'conductivity_co…"
      ]
     },
     "metadata": {},
     "output_type": "display_data"
    }
   ],
   "source": [
    "# define function that creates a Budyko plot for catchments in Great Britain\n",
    "def plot_Budyko_attributes_GB(x):\n",
    "    \n",
    "    # create figure\n",
    "    fig, axes = plt.subplots(figsize=(10, 3), constrained_layout=True, nrows=1, ncols=2, gridspec_kw={'width_ratios': [2, 1]})\n",
    "    \n",
    "    # plot catchments in Budyko space coloured according to catchment attribute\n",
    "    im = axes[0].scatter(df_GB[\"aridity\"], 1-df_GB[\"runoff_ratio\"], s=25, c=df_GB[x], alpha=0.5, lw=0) #, s=df_GB[\"area\"]/100\n",
    "    \n",
    "    # specify axes, labels, etc.\n",
    "    axes[0].set_xlabel(\"$PET/P$ [-]\")\n",
    "    axes[0].set_ylabel(\"$1 - Q/P$ [-]\")\n",
    "    axes[0].set_xlim([0, 1.2])\n",
    "    axes[0].set_ylim([-0.6, 1.2])\n",
    "    helper_fcts.plot_Budyko_limits(df_GB[\"aridity\"], df_GB[\"runoff_ratio\"], axes[0])\n",
    "    helper_fcts.plot_Budyko_curve(np.linspace(0.01,10,1000), axes[0])\n",
    "    #axes.set_xscale('log')\n",
    "    cbar = fig.colorbar(im, ax=axes[0])\n",
    "    #cbar.set_label(dict_names[x])    \n",
    "    \n",
    "    # calculate correlation\n",
    "    r_sp, _ = stats.spearmanr(df_GB[x], df_GB[\"Budyko_anomaly\"], nan_policy='omit')    \n",
    "    \n",
    "    # plot vertical line at x = 0\n",
    "    axes[1].axhline(c='lightgrey', linestyle='--')\n",
    "    \n",
    "    # plot catchment attribute against Budyko anomaly\n",
    "    im = axes[1].scatter(df_GB[x], df_GB[\"Budyko_anomaly\"], s=25, c=df_GB[\"Budyko_anomaly\"], alpha=0.5, lw=0, cmap='RdYlGn', \n",
    "                      label=r\"$\\rho_s$ = \" + str(np.round(r_sp,2)))   \n",
    "    \n",
    "    # specify axes, labels, etc.\n",
    "    #axes[1].set_xlabel(dict_names[x])  \n",
    "    axes[1].set_ylim([-1, 1])  \n",
    "    axes[1].set_ylabel(\"Budyko Abweichung [-]\")\n",
    "    axes[1].legend(loc='best')\n",
    "    cbar = fig.colorbar(im, ax=axes[1])\n",
    "    cbar.set_label(\"Budyko Abweichung [-]\")   \n",
    "    cbar.mappable.set_clim(vmin=-0.3,vmax=0.3)\n",
    "\n",
    "# todo: rename attributes  \n",
    "# todo: add attributes that do not matter \n",
    "\n",
    "    \n",
    "\"\"\"\n",
    "dict_names = {'frac_high_perc': '% Grundwasserleiter hoch',\n",
    "                  'frac_low_perc': '% Grundwasserleiter niedrig',\n",
    "                  'no_gw_perc': '% kein Grundwasserleiter',\n",
    "                  'baseflow_index': 'BFI'}\n",
    "\"\"\"\n",
    "    \n",
    "# run the function\n",
    "widgets.interact(plot_Budyko_attributes_GB, x=['soil_depth_pelletier', 'clay_perc', 'conductivity_cosby',\n",
    "                                               'frac_high_perc', 'inter_high_perc', 'no_gw_perc', 'baseflow_index_ceh',\n",
    "                                               'reservoir_cap', 'groundwater_abs', 'surfacewater_abs', 'discharges'])\n",
    "\n",
    "%matplotlib inline"
   ]
  }
 ],
 "metadata": {
  "kernelspec": {
   "display_name": "Python 3 (ipykernel)",
   "language": "python",
   "name": "python3"
  },
  "language_info": {
   "codemirror_mode": {
    "name": "ipython",
    "version": 3
   },
   "file_extension": ".py",
   "mimetype": "text/x-python",
   "name": "python",
   "nbconvert_exporter": "python",
   "pygments_lexer": "ipython3",
   "version": "3.9.12"
  }
 },
 "nbformat": 4,
 "nbformat_minor": 5
}
