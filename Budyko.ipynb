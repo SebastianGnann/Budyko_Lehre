{
 "cells": [
  {
   "cell_type": "code",
   "execution_count": 19,
   "id": "9c8aa6e4-4368-413d-89ce-b458ec059831",
   "metadata": {},
   "outputs": [],
   "source": [
    "# import all necessary packages\n",
    "import matplotlib.pyplot as plt\n",
    "import numpy as np\n",
    "import pandas as pd\n",
    "from scipy import stats\n",
    "from functions import plotting_fcts\n",
    "import ipywidgets as widgets"
   ]
  },
  {
   "cell_type": "markdown",
   "id": "4105143c-6a34-4b99-a8b0-8d08d809ecc6",
   "metadata": {},
   "source": [
    "# Budyko and die klimatische Wasserbilanz \n",
    "\n",
    "## Mikhail Ivanovich Budyko (20.01.1920 – 10.12.2001)\n",
    "\n",
    "In den Jahren 1955-1974 studierte Mikhail Budyko (siehe Bild; \n",
    "[Quelle](https://public.wmo.int/en/about-us/awards/international-meteorological-organization-imo-prize/mikhail-ivanovich-budyko))im Rahmen seiner Forschungen die Komponenten der Land- und Meeresenergiebilanz, was in Russland und darüber hinaus weithin anerkannt wurde und den Grundstein für einen neuen Bereich der Meteorologie legte - die physikalische Klimatologie (Theorie des Klimas). \n",
    "\n",
    "<img src=\"Budyko.png\" alt=\"drawing\" width=\"300\"/>\n",
    "\n",
    "\n",
    "## Budyko nimmt an, dass die Wasserbilanz großer Einzugsgebiete ($\\gg$1000 km²) nur vom Klima kontrolliert wird. \n",
    "Die langfristige Wasserbilanz für ein Einzugsgebiet ist dann:\n",
    "\n",
    "$N = AET + Q$ (1)\n",
    "\n",
    "wobei $N$ den Niederschlag beschreibt, $AET$ die tatsächliche Verdunstung und $Q$ den Abfluss (alle in mm/y).\n",
    "\n",
    "Und die Energiebilanz ist:\n",
    "\n",
    "$R_n = \\lambda_w AET + H + G$ (2)\n",
    "\n",
    "wobei $R_n$ die Nettostrahlung beschreibt, $\\lambda_w$ die Verdunstungsenthalpie (die Menge an Energie, die es braucht um eine bestimmte Menge an Wasser zu verdampfen; abhängig von der Temperatur $T$), $H$ die sensible Wärme und $G$ den Bodenwärmefluss (alle in W/m²). $\\lambda_w AET$ wird auch als latente Wärme bezeichnet."
   ]
  },
  {
   "cell_type": "markdown",
   "id": "f3957766-300a-44aa-a93f-c77fe6bab3ed",
   "metadata": {},
   "source": [
    "## Die klimatische Wasserbilanz \n",
    "\n",
    "Die klimatische Wasserbilanz ist definiert als $P - PET$, wobei $PET$ die potentielle Verdunstung beschreibt.\n",
    "\n",
    "Sie ist eng verwandt mit der sogenannten Aridität $\\phi$.\n",
    "\n",
    "$\\phi = \\frac{PET}{P}$\n",
    "\n",
    "Gebiete, in denen $P$ größer als $PET$ ist, werden als *energie-limitiert* bezeichnet. \n",
    "Gebiete, in denen $P$ kleiner als $PET$ ist, werden als *wasser-limitiert* bezeichnet.\n",
    "\n",
    "In wasser-limitierten ist die klimatische Wasserbilanz negativ (bzw. $\\phi > 1$).\n",
    "In solchen Gebieten kann nicht alle Energie genutzt werden um Wasser zu verdunsten, da nicht genügend Wasser vorhanden ist. \n",
    "In energie-limitierten Gebieten hingegen kann (fast) alle Energie genutzt werden ($PET \\approx AET$), und folglich sollte $P - PET$ dem Abfluss $Q$ entsprechen.\n",
    "\n",
    "Plottet man nun den Abfluss gegen die klimatische Wasserbilanz, so sieht man einen starken Zusammenhang. \n",
    "Die Stärke des Zusammenhangs kann man z.B. mit der sogenannten Spearman Rangkorrelation $\\rho_s$ beschreiben.\n",
    "Gibt es Unterschiede zwischen wasser- und energie-limitierten Gebieten? \n"
   ]
  },
  {
   "cell_type": "code",
   "execution_count": 16,
   "id": "c438804f-1a3d-4848-ab47-f1fbb7cd4e0a",
   "metadata": {},
   "outputs": [
    {
     "data": {
      "image/png": "[encoded data removed]",
      "text/plain": [
       "<Figure size 400x400 with 1 Axes>"
      ]
     },
     "metadata": {},
     "output_type": "display_data"
    }
   ],
   "source": [
    "#todo: add more comments\n",
    "\n",
    "# load data\n",
    "df = pd.read_csv(\"results/caravan_processed.csv\")\n",
    "\n",
    "df[\"aridity_class\"] = 0\n",
    "df.loc[df[\"aridity_netrad\"] > 1, \"aridity_class\"] = 1\n",
    "df[\"climatic_water_balance\"] = df[\"total_precipitation_sum\"] - df[\"netrad\"]\n",
    "\n",
    "#todo: nice units etc., maybe using dict?\n",
    "def plot_climatic_water_balance(x_name, y_name):\n",
    "    fig = plt.figure(figsize=(4, 4), constrained_layout=True)\n",
    "    axes = plt.axes()\n",
    "    r_sp_energy_limited, _ = stats.spearmanr(df.loc[df[\"aridity_class\"] == 0, x_name],\n",
    "                                             df.loc[df[\"aridity_class\"] == 0, y_name],\n",
    "                                             nan_policy='omit')\n",
    "    im = axes.scatter(df.loc[df[\"aridity_class\"] == 0, x_name], df.loc[df[\"aridity_class\"] == 0, y_name],\n",
    "                      s=25, c=\"tab:blue\", alpha=0.5, lw=0,\n",
    "                      label=r\"$PET/P < 1$; $\\rho_s$ = \" + str(np.round(r_sp_energy_limited,2)))\n",
    "    r_sp_water_limited, _ = stats.spearmanr(df.loc[df[\"aridity_class\"] == 1, x_name],\n",
    "                                            df.loc[df[\"aridity_class\"] == 1, y_name],\n",
    "                                            nan_policy='omit')\n",
    "    im = axes.scatter(df.loc[df[\"aridity_class\"] == 1, x_name], df.loc[df[\"aridity_class\"] == 1, y_name],\n",
    "                      s=25, c=\"tab:orange\", alpha=0.5, lw=0,\n",
    "                      label=r\"$PET/P > 1$; $\\rho_s$ = \" + str(np.round(r_sp_water_limited,2)))\n",
    "    axes.set_xlabel(\"$PET - P$ [mm/y]\")\n",
    "    axes.set_ylabel(\"$Q$ [mm/y]\")\n",
    "    axes.set_xlim([-5, 5])\n",
    "    axes.set_ylim([0, 10])\n",
    "    #plotting_fcts.plot_origin_line(df[x_name], df[y_name])\n",
    "    #axes.set_xscale('log')\n",
    "    #axes.set_yscale('log')\n",
    "    axes.legend(loc='best')\n",
    "\n",
    "x_name = \"climatic_water_balance\"\n",
    "y_name = \"streamflow\"\n",
    "plot_climatic_water_balance(x_name, y_name)\n",
    "    \n",
    "%matplotlib inline"
   ]
  },
  {
   "cell_type": "markdown",
   "id": "c5d1c0b3-4124-44f4-85a3-00d2441e9857",
   "metadata": {},
   "source": [
    "Der Zusammenhang zwischen der klimatischen Wasserbilanz und dem Abfluss ist sehr stark, inbesondere in energie-limitierten Gebieten.\n",
    "Hier sollte $P - PET$ ungefähr $Q$ entsprechen, da genügend Wasser verfügbar ist und somit (fast) alle Energie für Verdunstung (d.h. $AET$) genutzt werden kann."
   ]
  },
  {
   "cell_type": "markdown",
   "id": "a353ef4b-2346-4ffd-9df1-28b696c44ab6",
   "metadata": {},
   "source": [
    "## Budyko Kurve\n",
    "\n",
    "...\n"
   ]
  },
  {
   "cell_type": "code",
   "execution_count": null,
   "id": "90718d02-4e4a-4d3a-8031-6f1b8bca1136",
   "metadata": {},
   "outputs": [],
   "source": [
    "def f(x):\n",
    "    \n",
    "    #todo: add dict for z name and unit\n",
    "    fig = plt.figure(figsize=(6, 3), constrained_layout=True)\n",
    "    axes = plt.axes()\n",
    "    x_name = \"aridity_netrad\"\n",
    "    y_name = \"runoff_ratio\"\n",
    "    z_name = x #\"frac_snow\"\n",
    "    z_unit = \" [-]\"\n",
    "    im = axes.scatter(df[x_name], 1-df[y_name], s=25, c=df[z_name], alpha=0.5, lw=0) #, s=df[\"area\"]/100\n",
    "    axes.set_xlabel(\"$PET/P$ [-]\")\n",
    "    axes.set_ylabel(\"$1 - Q/P$ [-]\")\n",
    "    axes.set_xlim([0, 5])\n",
    "    axes.set_ylim([-0.25, 1.25])\n",
    "    plotting_fcts.plot_Budyko_limits(df[x_name], df[y_name])\n",
    "    #axes.set_xscale('log')\n",
    "    cbar = fig.colorbar(im, ax=axes)\n",
    "    cbar.set_label(z_name + z_unit)\n",
    "\n",
    "\n",
    "widgets.interact(f, x=['area', 'seasonality', 'frac_snow', 'slp_dg_sav', 'gwt_cm_sav'])\n",
    "\n",
    "%matplotlib inline\n",
    "    \n",
    "#todo: add Budyko curve\n"
   ]
  },
  {
   "cell_type": "markdown",
   "id": "274142e5-ba1b-49f2-86cb-88b46a1b2514",
   "metadata": {},
   "source": [
    "## Abweichungen von der Budyko Kurve\n",
    "...\n",
    "\n",
    "ChatGPT\n"
   ]
  },
  {
   "cell_type": "code",
   "execution_count": 22,
   "id": "c2b7874c-dc2c-49e4-83b2-2a23393c2dcb",
   "metadata": {},
   "outputs": [
    {
     "data": {
      "application/vnd.jupyter.widget-view+json": {
       "model_id": "a27f19f9269d4015a2f04580af280ecd",
       "version_major": 2,
       "version_minor": 0
      },
      "text/plain": [
       "interactive(children=(Dropdown(description='x', options=('seasonality', 'frac_snow', 'slp_dg_sav', 'gwt_cm_sav…"
      ]
     },
     "metadata": {},
     "output_type": "display_data"
    }
   ],
   "source": [
    "def f(x):\n",
    "    \n",
    "    #todo: add dict for z name and unit\n",
    "    fig = plt.figure(figsize=(6, 3), constrained_layout=True)\n",
    "    axes = plt.axes()\n",
    "    x_name = \"aridity_netrad\"\n",
    "    y_name = \"runoff_ratio\"\n",
    "    z_name = x #\"frac_snow\"\n",
    "    z_unit = \" [-]\"\n",
    "    im = axes.scatter(df[x_name], 1-df[y_name], s=25, c=df[z_name], alpha=0.5, lw=0) #, s=df[\"area\"]/100\n",
    "    axes.set_xlabel(\"$PET/P$ [-]\")\n",
    "    axes.set_ylabel(\"$1 - Q/P$ [-]\")\n",
    "    axes.set_xlim([0, 5])\n",
    "    axes.set_ylim([-0.25, 1.25])\n",
    "    plotting_fcts.plot_Budyko_limits(df[x_name], df[y_name])\n",
    "    #axes.set_xscale('log')\n",
    "    cbar = fig.colorbar(im, ax=axes)\n",
    "    cbar.set_label(z_name + z_unit)\n",
    "\n",
    "\n",
    "widgets.interact(f, x=['seasonality', 'frac_snow', 'slp_dg_sav', 'gwt_cm_sav'])\n",
    "\n",
    "%matplotlib inline\n",
    "\n",
    "#todo: calculate Budyko anomaly"
   ]
  },
  {
   "cell_type": "markdown",
   "id": "91d50651-bedd-438f-b4bc-a6169e6ab38a",
   "metadata": {},
   "source": [
    "## Annahmen der Budyko Kurve\n",
    "Nur für langjährige Mittelwerte kann die Änderung des Speichers als null angenommen werden."
   ]
  },
  {
   "cell_type": "code",
   "execution_count": 21,
   "id": "85ce4d54-33be-4b06-88bd-7c8ab08198e2",
   "metadata": {},
   "outputs": [
    {
     "data": {
      "application/vnd.jupyter.widget-view+json": {
       "model_id": "9daeb7d635ff4fd7a504d13c5196ae11",
       "version_major": 2,
       "version_minor": 0
      },
      "text/plain": [
       "interactive(children=(Dropdown(description='x', options=('area', 'seasonality', 'frac_snow', 'slp_dg_sav', 'gw…"
      ]
     },
     "metadata": {},
     "output_type": "display_data"
    }
   ],
   "source": [
    "def f(x):\n",
    "    \n",
    "    #todo: add dict for z name and unit\n",
    "    fig = plt.figure(figsize=(6, 3), constrained_layout=True)\n",
    "    axes = plt.axes()\n",
    "    x_name = \"aridity_netrad\"\n",
    "    y_name = \"runoff_ratio\"\n",
    "    z_name = x #\"frac_snow\"\n",
    "    z_unit = \" [-]\"\n",
    "    im = axes.scatter(df[x_name], 1-df[y_name], s=25, c=df[z_name], alpha=0.5, lw=0) #, s=df[\"area\"]/100\n",
    "    axes.set_xlabel(\"$PET/P$ [-]\")\n",
    "    axes.set_ylabel(\"$1 - Q/P$ [-]\")\n",
    "    axes.set_xlim([0, 5])\n",
    "    axes.set_ylim([-0.25, 1.25])\n",
    "    plotting_fcts.plot_Budyko_limits(df[x_name], df[y_name])\n",
    "    #axes.set_xscale('log')\n",
    "    cbar = fig.colorbar(im, ax=axes)\n",
    "    cbar.set_label(z_name + z_unit)\n",
    "\n",
    "\n",
    "widgets.interact(f, x=['area', 'seasonality', 'frac_snow', 'slp_dg_sav', 'gwt_cm_sav'])\n",
    "\n",
    "%matplotlib inline\n",
    "    \n",
    "#todo: add Budyko curve for small and large areas and for shorter time periods"
   ]
  },
  {
   "cell_type": "code",
   "execution_count": null,
   "id": "b02f0910-77e9-4b2e-b3c7-1a77af99bed1",
   "metadata": {},
   "outputs": [],
   "source": []
  }
 ],
 "metadata": {
  "kernelspec": {
   "display_name": "Python 3 (ipykernel)",
   "language": "python",
   "name": "python3"
  },
  "language_info": {
   "codemirror_mode": {
    "name": "ipython",
    "version": 3
   },
   "file_extension": ".py",
   "mimetype": "text/x-python",
   "name": "python",
   "nbconvert_exporter": "python",
   "pygments_lexer": "ipython3",
   "version": "3.9.12"
  }
 },
 "nbformat": 4,
 "nbformat_minor": 5
}
